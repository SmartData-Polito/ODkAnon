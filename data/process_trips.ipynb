{
 "cells": [
  {
   "cell_type": "markdown",
   "id": "3cdd8fc0-1c3c-40cb-b6e2-adff91b97fc7",
   "metadata": {},
   "source": [
    "Preprocessing to extract trips from GNSS records"
   ]
  },
  {
   "cell_type": "code",
   "execution_count": 1,
   "id": "f8971206-c949-4c97-be17-8cfd2ac61bd2",
   "metadata": {},
   "outputs": [],
   "source": [
    "import os\n",
    "import pandas as pd\n",
    "import multiprocessing as mp\n",
    "from glob import glob\n",
    "import numpy as np"
   ]
  },
  {
   "cell_type": "code",
   "execution_count": 2,
   "id": "0d0a9b45-a27c-468a-b8c3-300bec1508de",
   "metadata": {},
   "outputs": [],
   "source": [
    "FOLDER_PATH = 'gps_dataset/'\n",
    "TIME_COL = 'UTC DATETIME'\n",
    "TIME_GAP_THRESHOLD = 180     # seconds"
   ]
  },
  {
   "cell_type": "code",
   "execution_count": 3,
   "id": "baccd897-f866-4bd0-a146-9ee0abe23afe",
   "metadata": {},
   "outputs": [],
   "source": [
    "def count_trips(file_path):\n",
    "    \"\"\"count number of trips of a user\"\"\"\n",
    "    df = pd.read_csv(file_path)\n",
    "    df[TIME_COL] = pd.to_datetime(df[TIME_COL])\n",
    "    time_diff = df[TIME_COL].diff().dt.total_seconds().fillna(0)\n",
    "    trip_starts = (time_diff > TIME_GAP_THRESHOLD).sum() + 1\n",
    "    return trip_starts"
   ]
  },
  {
   "cell_type": "code",
   "execution_count": 4,
   "id": "d2e61eed-56a5-4412-8a31-d587524b6974",
   "metadata": {},
   "outputs": [],
   "source": [
    "ind_df = pd.read_csv('individuals_dataset.csv')\n",
    "id_with_gps = ind_df[ind_df.GPS_RECORD == True].ID.values"
   ]
  },
  {
   "cell_type": "code",
   "execution_count": 5,
   "id": "f8b24f16-e5b1-40a6-b79d-44ab66f73dad",
   "metadata": {},
   "outputs": [],
   "source": [
    "def get_OD_trips(df_path):\n",
    "    \"\"\"get OD pairs for all trips of a single user, \n",
    "    return one dataframe contains start and time, start and end latitude and longitude, user ID\"\"\"\n",
    "    trips_df = pd.read_csv(df_path)\n",
    "    if len(trips_df) < 2:\n",
    "        return None\n",
    "    else:\n",
    "        trips_df[TIME_COL] = pd.to_datetime(trips_df[TIME_COL])\n",
    "        trips_df['time_diff'] = trips_df[TIME_COL].diff().dt.total_seconds().fillna(0)\n",
    "        start_points = np.array(trips_df[trips_df['time_diff']>TIME_GAP_THRESHOLD].index)\n",
    "        end_points = start_points -1\n",
    "\n",
    "        start_points = np.concatenate(([0],start_points))\n",
    "        end_points = np.concatenate((end_points, [trips_df.index[-1]]))\n",
    "\n",
    "        origin_df = trips_df.iloc[start_points][[TIME_COL,'LATITUDE','LONGITUDE']].rename(columns={TIME_COL: 'start_time', 'LATITUDE': 'ori_lat', 'LONGITUDE': 'ori_lon'})\n",
    "        origin_df = origin_df.reset_index(drop=True)\n",
    "\n",
    "        destination_df = trips_df.iloc[end_points][[TIME_COL,'LATITUDE','LONGITUDE']].rename(columns={TIME_COL: 'end_time', 'LATITUDE': 'dst_lat', 'LONGITUDE': 'dst_lon'})\n",
    "        destination_df = destination_df.reset_index(drop=True)\n",
    "        \n",
    "        od_df = pd.merge(origin_df, destination_df,left_index=True, right_index=True)\n",
    "        ID = df_path.split('/')[-1].split('.')[0]\n",
    "        od_df['ID'] = ID\n",
    "        return od_df"
   ]
  },
  {
   "cell_type": "code",
   "execution_count": 6,
   "id": "4c7bce5a-1c72-4343-86fc-6895d12442af",
   "metadata": {},
   "outputs": [],
   "source": [
    "def get_all_OD(valid_ID_list):\n",
    "    files = [os.path.join(FOLDER_PATH, f) for f in os.listdir(FOLDER_PATH) if f.endswith('.csv')]\n",
    "    valid_files = [path for path in files if path.split('/')[-1].split('.')[0] in valid_ID_list]\n",
    "    cores = min(32, mp.cpu_count())\n",
    "\n",
    "    with mp.Pool(cores) as pool:\n",
    "        dataframes = pool.map(get_OD_trips, valid_files)\n",
    "\n",
    "    result_df = pd.concat(dataframes, ignore_index=True)\n",
    "    return result_df"
   ]
  },
  {
   "cell_type": "code",
   "execution_count": 7,
   "id": "382586b9-c199-44b8-b4ca-e3b6d5b07547",
   "metadata": {},
   "outputs": [],
   "source": [
    "all_trips_df = get_all_OD(id_with_gps)"
   ]
  },
  {
   "cell_type": "code",
   "execution_count": 9,
   "id": "ff4c7666-260c-4461-b3db-16d1a9c20094",
   "metadata": {},
   "outputs": [],
   "source": [
    "all_trips_df.to_csv(\"processed_trips.csv\", index=False)"
   ]
  },
  {
   "cell_type": "code",
   "execution_count": null,
   "id": "fd082c32-5281-404c-91eb-4e1b0e80038e",
   "metadata": {},
   "outputs": [],
   "source": []
  },
  {
   "cell_type": "code",
   "execution_count": null,
   "id": "474dc8d2-3947-46f7-9fc4-d5cdaacaa083",
   "metadata": {},
   "outputs": [],
   "source": []
  }
 ],
 "metadata": {
  "kernelspec": {
   "display_name": "Python [conda env:base] *",
   "language": "python",
   "name": "conda-base-py"
  },
  "language_info": {
   "codemirror_mode": {
    "name": "ipython",
    "version": 3
   },
   "file_extension": ".py",
   "mimetype": "text/x-python",
   "name": "python",
   "nbconvert_exporter": "python",
   "pygments_lexer": "ipython3",
   "version": "3.13.5"
  }
 },
 "nbformat": 4,
 "nbformat_minor": 5
}
